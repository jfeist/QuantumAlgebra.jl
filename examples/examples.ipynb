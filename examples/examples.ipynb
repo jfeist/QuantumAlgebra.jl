{
 "cells": [
  {
   "cell_type": "markdown",
   "metadata": {},
   "source": [
    "# Examples for QuantumAlgebra.jl"
   ]
  },
  {
   "cell_type": "code",
   "execution_count": 2,
   "metadata": {
    "ExecuteTime": {
     "end_time": "2021-07-13T20:53:44.818000+02:00",
     "start_time": "2021-07-13T18:53:42.979Z"
    }
   },
   "outputs": [],
   "source": [
    "using QuantumAlgebra"
   ]
  },
  {
   "cell_type": "code",
   "execution_count": 3,
   "metadata": {
    "ExecuteTime": {
     "end_time": "2021-07-13T20:53:44.819000+02:00",
     "start_time": "2021-07-13T18:53:42.983Z"
    }
   },
   "outputs": [],
   "source": [
    "# convience function to show both the original and normal_form version of an expression\n",
    "dispnormal(x) = display(\"text/latex\",\"\\$ $(latex(x)) \\\\quad\\\\to\\\\quad $(latex(normal_form(x))) \\$\");"
   ]
  },
  {
   "cell_type": "markdown",
   "metadata": {},
   "source": [
    "## Parameters\n",
    "Create parameters with `param(:name,state,indices...)`, where `state = 'r','n','c'` stands for real, non-conjugated, or conjugated parameters. For more convenience, we also have the string macros `Pr\"name\"` for real parameters and `Pc\"name\"` for complex (non-conjugated) parameters. These macros support indices with `Pr\"name_i,j\"`."
   ]
  },
  {
   "cell_type": "code",
   "execution_count": 4,
   "metadata": {
    "ExecuteTime": {
     "end_time": "2021-07-13T20:53:48.541000+02:00",
     "start_time": "2021-07-13T18:53:42.988Z"
    }
   },
   "outputs": [
    {
     "data": {
      "text/latex": [
       "${\\omega}_{ij}$"
      ],
      "text/plain": [
       "ω(ij) "
      ]
     },
     "metadata": {},
     "output_type": "display_data"
    },
    {
     "data": {
      "text/latex": [
       "${\\alpha}$"
      ],
      "text/plain": [
       "α "
      ]
     },
     "metadata": {},
     "output_type": "display_data"
    }
   ],
   "source": [
    "ωij = param(:ω,'r',:i,:j)\n",
    "α = param(:α,'n')\n",
    "display(ωij)\n",
    "display(α)"
   ]
  },
  {
   "cell_type": "code",
   "execution_count": 5,
   "metadata": {
    "ExecuteTime": {
     "end_time": "2021-07-13T20:53:49.514000+02:00",
     "start_time": "2021-07-13T18:53:42.993Z"
    }
   },
   "outputs": [
    {
     "data": {
      "text/plain": [
       "true"
      ]
     },
     "metadata": {},
     "output_type": "display_data"
    },
    {
     "data": {
      "text/latex": [
       "${\\omega}_{ij}$"
      ],
      "text/plain": [
       "ω(ij) "
      ]
     },
     "metadata": {},
     "output_type": "display_data"
    },
    {
     "data": {
      "text/latex": [
       "${\\alpha}^{*}$"
      ],
      "text/plain": [
       "α* "
      ]
     },
     "metadata": {},
     "output_type": "display_data"
    }
   ],
   "source": [
    "display(ωij == Pr\"ω_i,j\")\n",
    "display(ωij')\n",
    "display(α')"
   ]
  },
  {
   "cell_type": "markdown",
   "metadata": {},
   "source": [
    "`normal_form` also reorders parameters"
   ]
  },
  {
   "cell_type": "code",
   "execution_count": 6,
   "metadata": {
    "ExecuteTime": {
     "end_time": "2021-07-13T20:53:52.897000+02:00",
     "start_time": "2021-07-13T18:53:42.999Z"
    }
   },
   "outputs": [
    {
     "data": {
      "text/latex": [
       "${{\\alpha}}^{2} {\\omega}_{ij} {\\alpha} {\\omega}_{ij} {\\alpha}^{*}$"
      ],
      "text/plain": [
       "α² ω(ij) α ω(ij) α* "
      ]
     },
     "metadata": {},
     "output_type": "display_data"
    },
    {
     "data": {
      "text/latex": [
       "${\\alpha}^{*} {{\\alpha}}^{3} {{\\omega}_{ij}}^{2}$"
      ],
      "text/plain": [
       "α* α³ ω(ij)² "
      ]
     },
     "execution_count": 6,
     "metadata": {},
     "output_type": "execute_result"
    }
   ],
   "source": [
    "x = α*α*ωij*α*ωij*α'\n",
    "display(x)\n",
    "normal_form(x)"
   ]
  },
  {
   "cell_type": "markdown",
   "metadata": {},
   "source": [
    "Parameters where state is not set are complex by default."
   ]
  },
  {
   "cell_type": "code",
   "execution_count": 7,
   "metadata": {
    "ExecuteTime": {
     "end_time": "2021-07-13T20:53:53.469000+02:00",
     "start_time": "2021-07-13T18:53:43.005Z"
    }
   },
   "outputs": [
    {
     "data": {
      "text/latex": [
       "$ g_{2} g_{1} g_{3}^{*} b {a}^{2} d_{3}^{*} f_{1} \\quad\\to\\quad {a}^{2} b d_{3}^{*} f_{1} g_{3}^{*} g_{1} g_{2} $"
      ]
     },
     "metadata": {},
     "output_type": "display_data"
    },
    {
     "data": {
      "text/latex": [
       "$ g_{2}^{*} g_{1}^{*} g_{3} b^{*} {a^{*}}^{2} d_{3} f_{1} \\quad\\to\\quad {a^{*}}^{2} b^{*} d_{3} f_{1} g_{1}^{*} g_{2}^{*} g_{3} $"
      ]
     },
     "metadata": {},
     "output_type": "display_data"
    }
   ],
   "source": [
    "x = param(:g,2)*param(:g,1)*param(:g,'c',3)*param(:b)*param(:a)*param(:a)*param(:d,'c',3)*param(:f,'r',1)\n",
    "dispnormal(x)\n",
    "dispnormal(x')"
   ]
  },
  {
   "cell_type": "markdown",
   "metadata": {},
   "source": [
    "## Operators\n",
    "Three types of operators are currently supported: Bosonic, fermionic, and two-level system operators. By default, `QuantumAlgebra` defines `a` and `adag` as bosonic operators, `f` and `fdag` as fermionic operators, and `σx`,`σy`,`σz`,`σp`,`σm` as two-level system operators (`σp`/`σm` are $\\sigma^\\pm$)."
   ]
  },
  {
   "cell_type": "code",
   "execution_count": 8,
   "metadata": {
    "ExecuteTime": {
     "end_time": "2021-07-13T20:53:54.121000+02:00",
     "start_time": "2021-07-13T18:53:43.010Z"
    }
   },
   "outputs": [
    {
     "data": {
      "text/latex": [
       "$ {a} {a}^\\dagger \\quad\\to\\quad 1 + {a}^\\dagger {a} $"
      ]
     },
     "metadata": {},
     "output_type": "display_data"
    }
   ],
   "source": [
    "dispnormal(a()*adag())"
   ]
  },
  {
   "cell_type": "markdown",
   "metadata": {},
   "source": [
    "with indices"
   ]
  },
  {
   "cell_type": "code",
   "execution_count": 9,
   "metadata": {
    "ExecuteTime": {
     "end_time": "2021-07-13T20:53:54.502000+02:00",
     "start_time": "2021-07-13T18:53:43.015Z"
    }
   },
   "outputs": [
    {
     "data": {
      "text/latex": [
       "$ {a}_{i} {a}_{j}^\\dagger \\quad\\to\\quad \\delta_{ij} + {a}_{j}^\\dagger {a}_{i} $"
      ]
     },
     "metadata": {},
     "output_type": "display_data"
    }
   ],
   "source": [
    "dispnormal(a(:i)*adag(:j))"
   ]
  },
  {
   "cell_type": "markdown",
   "metadata": {},
   "source": [
    "Indices can be symbolic or integer:"
   ]
  },
  {
   "cell_type": "code",
   "execution_count": 10,
   "metadata": {
    "ExecuteTime": {
     "end_time": "2021-07-13T20:53:54.518000+02:00",
     "start_time": "2021-07-13T18:53:43.021Z"
    }
   },
   "outputs": [
    {
     "data": {
      "text/latex": [
       "$ {a}_{i} {a}_{1}^\\dagger \\quad\\to\\quad \\delta_{1i} + {a}_{1}^\\dagger {a}_{i} $"
      ]
     },
     "metadata": {},
     "output_type": "display_data"
    }
   ],
   "source": [
    "dispnormal(a(:i)*adag(1))"
   ]
  },
  {
   "cell_type": "markdown",
   "metadata": {},
   "source": [
    "Fermions anticommute"
   ]
  },
  {
   "cell_type": "code",
   "execution_count": 11,
   "metadata": {
    "ExecuteTime": {
     "end_time": "2021-07-13T20:53:54.544000+02:00",
     "start_time": "2021-07-13T18:53:43.025Z"
    }
   },
   "outputs": [
    {
     "data": {
      "text/latex": [
       "$ {f}_{i} {f}_{j}^\\dagger \\quad\\to\\quad \\delta_{ij}-{f}_{j}^\\dagger {f}_{i} $"
      ]
     },
     "metadata": {},
     "output_type": "display_data"
    }
   ],
   "source": [
    "dispnormal(f(:i)*fdag(:j))"
   ]
  },
  {
   "cell_type": "code",
   "execution_count": 12,
   "metadata": {
    "ExecuteTime": {
     "end_time": "2021-07-13T20:53:54.572000+02:00",
     "start_time": "2021-07-13T18:53:43.030Z"
    }
   },
   "outputs": [
    {
     "data": {
      "text/latex": [
       "$ {f}_{ij} {f}_{il}^\\dagger \\quad\\to\\quad \\delta_{jl}-{f}_{il}^\\dagger {f}_{ij} $"
      ]
     },
     "metadata": {},
     "output_type": "display_data"
    }
   ],
   "source": [
    "dispnormal(f(:i,:j)*fdag(:i,:l))"
   ]
  },
  {
   "cell_type": "markdown",
   "metadata": {
    "ExecuteTime": {
     "end_time": "2021-07-13T19:12:43.408000+02:00",
     "start_time": "2021-07-13T17:12:43.290Z"
    }
   },
   "source": [
    "$f^2$ and $f^{\\dagger 2}$ are normalized to $0$. Here, we also use that `f()' = fdag()`"
   ]
  },
  {
   "cell_type": "code",
   "execution_count": 13,
   "metadata": {
    "ExecuteTime": {
     "end_time": "2021-07-13T20:53:54.596000+02:00",
     "start_time": "2021-07-13T18:53:43.035Z"
    }
   },
   "outputs": [
    {
     "data": {
      "text/latex": [
       "$ {{f}}^{2} \\quad\\to\\quad 0 $"
      ]
     },
     "metadata": {},
     "output_type": "display_data"
    },
    {
     "data": {
      "text/latex": [
       "$ {{f}^\\dagger}^{2} \\quad\\to\\quad 0 $"
      ]
     },
     "metadata": {},
     "output_type": "display_data"
    }
   ],
   "source": [
    "dispnormal(f()*f())\n",
    "dispnormal(f()'*f()')"
   ]
  },
  {
   "cell_type": "markdown",
   "metadata": {},
   "source": [
    "Since normal form also gives canonical ordering of operators by indices, anticommutation of fermionic operators can introduce a minus sign."
   ]
  },
  {
   "cell_type": "code",
   "execution_count": 14,
   "metadata": {
    "ExecuteTime": {
     "end_time": "2021-07-13T20:53:54.601000+02:00",
     "start_time": "2021-07-13T18:53:43.039Z"
    }
   },
   "outputs": [
    {
     "data": {
      "text/latex": [
       "$ {f}_{j} {f}_{i} \\quad\\to\\quad -{f}_{i} {f}_{j} $"
      ]
     },
     "metadata": {},
     "output_type": "display_data"
    }
   ],
   "source": [
    "dispnormal(f(:j)*f(:i))"
   ]
  },
  {
   "cell_type": "markdown",
   "metadata": {},
   "source": [
    "Indices in $\\delta$s are automatically ordered and simplified (so $\\delta_{ik}\\delta_{kj} \\to \\delta_{ij}\\delta_{ik}$)."
   ]
  },
  {
   "cell_type": "code",
   "execution_count": 15,
   "metadata": {
    "ExecuteTime": {
     "end_time": "2021-07-13T20:53:54.602000+02:00",
     "start_time": "2021-07-13T18:53:43.044Z"
    }
   },
   "outputs": [
    {
     "data": {
      "text/latex": [
       "$ {f}_{ik} {f}_{kj}^\\dagger \\quad\\to\\quad \\delta_{ij} \\delta_{ik}-{f}_{kj}^\\dagger {f}_{ik} $"
      ]
     },
     "metadata": {},
     "output_type": "display_data"
    }
   ],
   "source": [
    "dispnormal(f(:i,:k)*fdag(:k,:j))"
   ]
  },
  {
   "cell_type": "markdown",
   "metadata": {},
   "source": [
    "Bosonic and fermionic operators commute (independent of indices)."
   ]
  },
  {
   "cell_type": "code",
   "execution_count": 16,
   "metadata": {
    "ExecuteTime": {
     "end_time": "2021-07-13T20:53:54.638000+02:00",
     "start_time": "2021-07-13T18:53:43.049Z"
    }
   },
   "outputs": [
    {
     "data": {
      "text/latex": [
       "$ {a}_{i} {f}_{i} {f}_{j}^\\dagger \\quad\\to\\quad \\delta_{ij}{a}_{i}-{f}_{j}^\\dagger {f}_{i} {a}_{i} $"
      ]
     },
     "metadata": {},
     "output_type": "display_data"
    }
   ],
   "source": [
    "dispnormal(a(:i)*f(:i)*fdag(:j))"
   ]
  },
  {
   "cell_type": "markdown",
   "metadata": {},
   "source": [
    "Define a second bosonic species with name `b`. These always commute with other species."
   ]
  },
  {
   "cell_type": "code",
   "execution_count": 17,
   "metadata": {
    "ExecuteTime": {
     "end_time": "2021-07-13T20:53:54.661000+02:00",
     "start_time": "2021-07-13T18:53:43.059Z"
    }
   },
   "outputs": [],
   "source": [
    "@boson_ops b;"
   ]
  },
  {
   "cell_type": "code",
   "execution_count": 18,
   "metadata": {
    "ExecuteTime": {
     "end_time": "2021-07-13T20:53:54.662000+02:00",
     "start_time": "2021-07-13T18:53:43.063Z"
    }
   },
   "outputs": [
    {
     "data": {
      "text/latex": [
       "$ {a}_{i} {b}_{i} {b}_{j}^\\dagger \\quad\\to\\quad \\delta_{ij}{a}_{i} + {b}_{j}^\\dagger {a}_{i} {b}_{i} $"
      ]
     },
     "metadata": {},
     "output_type": "display_data"
    }
   ],
   "source": [
    "dispnormal(a(:i)*b(:i)*bdag(:j))"
   ]
  },
  {
   "cell_type": "markdown",
   "metadata": {},
   "source": [
    "By default, operators for two-level systems (Pauli matrices) are written in terms of the Hermitian matrices $\\sigma^x,\\sigma^y,\\sigma^z$ (we use superscripts so as to avoid possible confusion with indices)."
   ]
  },
  {
   "cell_type": "code",
   "execution_count": 19,
   "metadata": {
    "ExecuteTime": {
     "end_time": "2021-07-13T20:53:55.236000+02:00",
     "start_time": "2021-07-13T18:53:43.068Z"
    }
   },
   "outputs": [
    {
     "data": {
      "text/latex": [
       "${{\\sigma}}_{3}^x$"
      ],
      "text/plain": [
       "σˣ(3)"
      ]
     },
     "metadata": {},
     "output_type": "display_data"
    },
    {
     "data": {
      "text/latex": [
       "${{\\sigma}}_{3}^z$"
      ],
      "text/plain": [
       "σᶻ(3)"
      ]
     },
     "metadata": {},
     "output_type": "display_data"
    },
    {
     "data": {
      "text/latex": [
       "$\\frac{1}{2}{{\\sigma}}_{1}^x + \\frac{1}{2}i{{\\sigma}}_{1}^y$"
      ],
      "text/plain": [
       "1//2 σˣ(1) + 1//2i σʸ(1)"
      ]
     },
     "metadata": {},
     "output_type": "display_data"
    }
   ],
   "source": [
    "display(σx(3))\n",
    "display(σz(3))\n",
    "display(σp(1))"
   ]
  },
  {
   "cell_type": "markdown",
   "metadata": {},
   "source": [
    "`normal_form` contracts products of Pauli matrices"
   ]
  },
  {
   "cell_type": "code",
   "execution_count": 20,
   "metadata": {
    "ExecuteTime": {
     "end_time": "2021-07-13T20:53:55.293000+02:00",
     "start_time": "2021-07-13T18:53:43.073Z"
    }
   },
   "outputs": [
    {
     "data": {
      "text/latex": [
       "$ {{{\\sigma}}^x}^{2} \\quad\\to\\quad 1 $"
      ]
     },
     "metadata": {},
     "output_type": "display_data"
    }
   ],
   "source": [
    "dispnormal(σx()*σx())"
   ]
  },
  {
   "cell_type": "markdown",
   "metadata": {},
   "source": [
    "... but not if indices are different (since the expression would be $\\delta_{ij} + \\sigma^x_i \\sigma^x_j (1-\\delta_{ij})$)"
   ]
  },
  {
   "cell_type": "code",
   "execution_count": 21,
   "metadata": {
    "ExecuteTime": {
     "end_time": "2021-07-13T20:53:55.308000+02:00",
     "start_time": "2021-07-13T18:53:43.077Z"
    }
   },
   "outputs": [
    {
     "data": {
      "text/latex": [
       "$ {{\\sigma}}_{i}^x {{\\sigma}}_{j}^x \\quad\\to\\quad {{\\sigma}}_{i}^x {{\\sigma}}_{j}^x $"
      ]
     },
     "metadata": {},
     "output_type": "display_data"
    }
   ],
   "source": [
    "dispnormal(σx(:i)*σx(:j))"
   ]
  },
  {
   "cell_type": "markdown",
   "metadata": {},
   "source": [
    "Commutation is performed, using $[\\sigma^a, \\sigma^b] = 2 i \\varepsilon_{a b c} \\sigma^c$ "
   ]
  },
  {
   "cell_type": "code",
   "execution_count": 22,
   "metadata": {
    "ExecuteTime": {
     "end_time": "2021-07-13T20:53:56.201000+02:00",
     "start_time": "2021-07-13T18:53:43.082Z"
    }
   },
   "outputs": [
    {
     "data": {
      "text/latex": [
       "$ {{\\sigma}}_{i}^z {{\\sigma}}_{j}^x \\quad\\to\\quad 2i\\delta_{ij}{{\\sigma}}_{i}^y + {{\\sigma}}_{j}^x {{\\sigma}}_{i}^z $"
      ]
     },
     "metadata": {},
     "output_type": "display_data"
    }
   ],
   "source": [
    "dispnormal(σz(:i)*σx(:j))"
   ]
  },
  {
   "cell_type": "markdown",
   "metadata": {},
   "source": [
    "Excitation/deexcitation operators $\\sigma^\\pm$ get rewritten in terms of $\\sigma^{x,y,z}$ by default."
   ]
  },
  {
   "cell_type": "code",
   "execution_count": 23,
   "metadata": {
    "ExecuteTime": {
     "end_time": "2021-07-13T20:53:56.380000+02:00",
     "start_time": "2021-07-13T18:53:43.088Z"
    }
   },
   "outputs": [
    {
     "data": {
      "text/latex": [
       "$ \\frac{1}{4}{{\\sigma}}_{j}^x {{\\sigma}}_{i}^x + \\frac{1}{4}i{{\\sigma}}_{j}^x {{\\sigma}}_{i}^y + \\frac{-1}{4}i{{\\sigma}}_{j}^y {{\\sigma}}_{i}^x + \\frac{1}{4}{{\\sigma}}_{j}^y {{\\sigma}}_{i}^y \\quad\\to\\quad \\frac{-1}{2}\\delta_{ij}{{\\sigma}}_{i}^z + \\frac{1}{4}{{\\sigma}}_{i}^x {{\\sigma}}_{j}^x + \\frac{-1}{4}i{{\\sigma}}_{i}^x {{\\sigma}}_{j}^y + \\frac{1}{4}i{{\\sigma}}_{j}^x {{\\sigma}}_{i}^y + \\frac{1}{4}{{\\sigma}}_{i}^y {{\\sigma}}_{j}^y $"
      ]
     },
     "metadata": {},
     "output_type": "display_data"
    }
   ],
   "source": [
    "dispnormal(σm(:j)*σp(:i))"
   ]
  },
  {
   "cell_type": "markdown",
   "metadata": {},
   "source": [
    "With `QuantumAlgebra.use_σpm()`, we can ask to use the excitation/deexcitation operators $\\sigma^+$ and $\\sigma^-$ instead of the Pauli matrices $\\sigma^{x,y,z}$ as the \"natural\" basis.\n",
    "\n",
    "Note that exchanging them easily produces \"complicated\" expressions since they are neither bosons nor fermions, but most properly thought of as \"hard-core bosons\"."
   ]
  },
  {
   "cell_type": "code",
   "execution_count": 24,
   "metadata": {
    "ExecuteTime": {
     "end_time": "2021-07-13T20:53:56.416000+02:00",
     "start_time": "2021-07-13T18:53:43.094Z"
    }
   },
   "outputs": [
    {
     "data": {
      "text/latex": [
       "$ {{\\sigma}}_{j}^- {{\\sigma}}_{i}^+ \\quad\\to\\quad \\delta_{ij}-2\\delta_{ij}{{\\sigma}}_{i}^+ {{\\sigma}}_{i}^- + {{\\sigma}}_{i}^+ {{\\sigma}}_{j}^- $"
      ]
     },
     "metadata": {},
     "output_type": "display_data"
    }
   ],
   "source": [
    "QuantumAlgebra.use_σpm()\n",
    "dispnormal(σm(:j)*σp(:i))"
   ]
  },
  {
   "cell_type": "markdown",
   "metadata": {},
   "source": [
    "Use `QuantumAlgebra.use_σxyz()` to switch back to $\\sigma^{x,y,z}$."
   ]
  },
  {
   "cell_type": "code",
   "execution_count": 25,
   "metadata": {
    "ExecuteTime": {
     "end_time": "2021-07-13T20:53:56.420000+02:00",
     "start_time": "2021-07-13T18:53:43.101Z"
    }
   },
   "outputs": [
    {
     "data": {
      "text/latex": [
       "$ \\frac{1}{4}{{\\sigma}}_{j}^x {{\\sigma}}_{i}^x + \\frac{1}{4}i{{\\sigma}}_{j}^x {{\\sigma}}_{i}^y + \\frac{-1}{4}i{{\\sigma}}_{j}^y {{\\sigma}}_{i}^x + \\frac{1}{4}{{\\sigma}}_{j}^y {{\\sigma}}_{i}^y \\quad\\to\\quad \\frac{-1}{2}\\delta_{ij}{{\\sigma}}_{i}^z + \\frac{1}{4}{{\\sigma}}_{i}^x {{\\sigma}}_{j}^x + \\frac{-1}{4}i{{\\sigma}}_{i}^x {{\\sigma}}_{j}^y + \\frac{1}{4}i{{\\sigma}}_{j}^x {{\\sigma}}_{i}^y + \\frac{1}{4}{{\\sigma}}_{i}^y {{\\sigma}}_{j}^y $"
      ]
     },
     "metadata": {},
     "output_type": "display_data"
    }
   ],
   "source": [
    "QuantumAlgebra.use_σxyz()\n",
    "dispnormal(σm(:j)*σp(:i))"
   ]
  },
  {
   "cell_type": "markdown",
   "metadata": {},
   "source": [
    "Scalars are incorporated \"naturally\", with the code trying to use integers and rationals where possible."
   ]
  },
  {
   "cell_type": "code",
   "execution_count": 26,
   "metadata": {
    "ExecuteTime": {
     "end_time": "2021-07-13T20:53:57.309000+02:00",
     "start_time": "2021-07-13T18:53:43.107Z"
    }
   },
   "outputs": [
    {
     "data": {
      "text/latex": [
       "$ -1 + {a} {a}^\\dagger \\quad\\to\\quad {a}^\\dagger {a} $"
      ]
     },
     "metadata": {},
     "output_type": "display_data"
    },
    {
     "data": {
      "text/latex": [
       "$ \\frac{1}{2}{a} {{a}^\\dagger}^{2} \\quad\\to\\quad {a}^\\dagger + \\frac{1}{2}{{a}^\\dagger}^{2} {a} $"
      ]
     },
     "metadata": {},
     "output_type": "display_data"
    },
    {
     "data": {
      "text/latex": [
       "$ \\frac{5}{4}{{\\sigma}}^x {{\\sigma}}^y {{\\sigma}}^z \\quad\\to\\quad \\frac{5}{4}i $"
      ]
     },
     "metadata": {},
     "output_type": "display_data"
    },
    {
     "data": {
      "text/latex": [
       "$ 2{{\\sigma}}^x {{\\sigma}}^y {{\\sigma}}^z \\quad\\to\\quad 2i $"
      ]
     },
     "metadata": {},
     "output_type": "display_data"
    },
    {
     "data": {
      "text/latex": [
       "$ \\frac{-1}{2} + \\frac{1}{4}{{{\\sigma}}_{1}^x}^{2} + \\frac{-1}{4}i{{\\sigma}}_{1}^x {{\\sigma}}_{1}^y + \\frac{1}{4}i{{\\sigma}}_{1}^y {{\\sigma}}_{1}^x + \\frac{1}{4}{{{\\sigma}}_{1}^y}^{2} \\quad\\to\\quad \\frac{1}{2}{{\\sigma}}_{1}^z $"
      ]
     },
     "metadata": {},
     "output_type": "display_data"
    }
   ],
   "source": [
    "dispnormal(a()*adag() - 1)\n",
    "dispnormal(1//2*a()*adag()*adag())\n",
    "dispnormal(5//4*σx()*σy()*σz())\n",
    "dispnormal(6//3*σx()*σy()*σz())\n",
    "dispnormal(σp(1) * σm(1) - 1//2)"
   ]
  },
  {
   "cell_type": "markdown",
   "metadata": {},
   "source": [
    "## Analytic sums\n",
    "Define sums over indices with `∑(ind`, where `∑` is entered as `\\sum<tab>` (note that this is **not** `Σ = \\Sigma<tab>`). Sum indices are automatically renamed to the special symbol `#ᵢ` (with $i=1,2,\\ldots$) and reordered since they have no definite identity.\n",
    "Sums over $\\delta$s disappear automatically."
   ]
  },
  {
   "cell_type": "code",
   "execution_count": 27,
   "metadata": {
    "ExecuteTime": {
     "end_time": "2021-07-13T20:53:57.566000+02:00",
     "start_time": "2021-07-13T18:53:43.112Z"
    }
   },
   "outputs": [
    {
     "data": {
      "text/latex": [
       "$ \\sum_{\\#_{1}}{a}_{\\#_{1}} {a}_{j}^\\dagger \\quad\\to\\quad 1 + \\sum_{\\#_{1}}{a}_{j}^\\dagger {a}_{\\#_{1}} $"
      ]
     },
     "metadata": {},
     "output_type": "display_data"
    },
    {
     "data": {
      "text/latex": [
       "$ \\sum_{\\#_{1}}g_{\\#_{1}}{a}_{\\#_{1}} {a}_{j}^\\dagger \\quad\\to\\quad g_{j} + \\sum_{\\#_{1}}g_{\\#_{1}}{a}_{j}^\\dagger {a}_{\\#_{1}} $"
      ]
     },
     "metadata": {},
     "output_type": "display_data"
    }
   ],
   "source": [
    "dispnormal(∑(:i, a(:i)*adag(:j)))\n",
    "dispnormal(∑(:i, Pr\"g_i\"*a(:i)*adag(:j)))"
   ]
  },
  {
   "cell_type": "code",
   "execution_count": 28,
   "metadata": {
    "ExecuteTime": {
     "end_time": "2021-07-13T20:53:57.676000+02:00",
     "start_time": "2021-07-13T18:53:43.117Z"
    }
   },
   "outputs": [
    {
     "data": {
      "text/latex": [
       "$\\sum_{\\#_{1}}{\\omega}_{\\#_{1}}{a}_{\\#_{1}\\#_{1}}^\\dagger$"
      ],
      "text/plain": [
       "∑₁ ω(#₁) a†(#₁#₁)"
      ]
     },
     "metadata": {},
     "output_type": "display_data"
    },
    {
     "data": {
      "text/latex": [
       "$ \\sum_{\\#_{1}}{\\omega}_{\\#_{1}}{a}_{kk} {a}_{\\#_{1}\\#_{1}}^\\dagger \\quad\\to\\quad {\\omega}_{k} + \\sum_{\\#_{1}}{\\omega}_{\\#_{1}}{a}_{\\#_{1}\\#_{1}}^\\dagger {a}_{kk} $"
      ]
     },
     "metadata": {},
     "output_type": "display_data"
    }
   ],
   "source": [
    "H = ∑(:i,Pr\"ω_i\"*adag(:i,:i))\n",
    "display(H)\n",
    "dispnormal(a(:k,:k)*H)"
   ]
  },
  {
   "cell_type": "code",
   "execution_count": 29,
   "metadata": {
    "ExecuteTime": {
     "end_time": "2021-07-13T20:53:57.678000+02:00",
     "start_time": "2021-07-13T18:53:43.123Z"
    }
   },
   "outputs": [
    {
     "data": {
      "text/latex": [
       "$\\sum_{\\#_{1}}{\\omega}_{\\#_{1}}{a}_{\\#_{1}}^\\dagger {a}_{\\#_{1}}$"
      ],
      "text/plain": [
       "∑₁ ω(#₁) a†(#₁) a(#₁)"
      ]
     },
     "metadata": {},
     "output_type": "display_data"
    },
    {
     "data": {
      "text/latex": [
       "$ \\sum_{\\#_{1}}{\\omega}_{\\#_{1}}{a}_{k} {a}_{\\#_{1}}^\\dagger {a}_{\\#_{1}} \\quad\\to\\quad {\\omega}_{k}{a}_{k} + \\sum_{\\#_{1}}{\\omega}_{\\#_{1}}{a}_{\\#_{1}}^\\dagger {a}_{\\#_{1}} {a}_{k} $"
      ]
     },
     "metadata": {},
     "output_type": "display_data"
    }
   ],
   "source": [
    "H = ∑(:i,Pr\"ω_i\"*adag(:i)*a(:i))\n",
    "display(H)\n",
    "dispnormal(a(:k)*H)"
   ]
  },
  {
   "cell_type": "code",
   "execution_count": 30,
   "metadata": {
    "ExecuteTime": {
     "end_time": "2021-07-13T20:53:57.687000+02:00",
     "start_time": "2021-07-13T18:53:43.133Z"
    }
   },
   "outputs": [
    {
     "data": {
      "text/latex": [
       "$ \\sum_{\\#_{1}}{a}_{\\#_{1}}^\\dagger {a}_{\\#_{1}} \\quad\\to\\quad \\sum_{\\#_{1}}{a}_{\\#_{1}}^\\dagger {a}_{\\#_{1}} $"
      ]
     },
     "metadata": {},
     "output_type": "display_data"
    },
    {
     "data": {
      "text/latex": [
       "$ \\sum_{\\#_{1}}{a}_{n}^\\dagger {a}_{\\#_{1}}^\\dagger {a}_{\\#_{1}} \\quad\\to\\quad \\sum_{\\#_{1}}{a}_{\\#_{1}}^\\dagger {a}_{n}^\\dagger {a}_{\\#_{1}} $"
      ]
     },
     "metadata": {},
     "output_type": "display_data"
    },
    {
     "data": {
      "text/latex": [
       "$ \\sum_{\\#_{1}}{a}_{n} {a}_{\\#_{1}}^\\dagger {a}_{\\#_{1}} \\quad\\to\\quad {a}_{n} + \\sum_{\\#_{1}}{a}_{\\#_{1}}^\\dagger {a}_{\\#_{1}} {a}_{n} $"
      ]
     },
     "metadata": {},
     "output_type": "display_data"
    },
    {
     "data": {
      "text/latex": [
       "$ \\sum_{\\#_{1}}{{\\sigma}}_{n}^z {a}_{\\#_{1}}^\\dagger {a}_{\\#_{1}} \\quad\\to\\quad \\sum_{\\#_{1}}{a}_{\\#_{1}}^\\dagger {{\\sigma}}_{n}^z {a}_{\\#_{1}} $"
      ]
     },
     "metadata": {},
     "output_type": "display_data"
    },
    {
     "data": {
      "text/latex": [
       "$ \\sum_{\\#_{1}}g_{n}{a}_{n} {a}_{\\#_{1}}^\\dagger {a}_{\\#_{1}} \\quad\\to\\quad g_{n}{a}_{n} + \\sum_{\\#_{1}}g_{n}{a}_{\\#_{1}}^\\dagger {a}_{\\#_{1}} {a}_{n} $"
      ]
     },
     "metadata": {},
     "output_type": "display_data"
    },
    {
     "data": {
      "text/latex": [
       "$ \\sum_{\\#_{1}}{a}_{\\#_{1}}^\\dagger {a}_{\\#_{1}} {a}_{n}^\\dagger \\quad\\to\\quad {a}_{n}^\\dagger + \\sum_{\\#_{1}}{a}_{\\#_{1}}^\\dagger {a}_{n}^\\dagger {a}_{\\#_{1}} $"
      ]
     },
     "metadata": {},
     "output_type": "display_data"
    },
    {
     "data": {
      "text/latex": [
       "$ \\sum_{\\#_{1}}{a}_{\\#_{1}}^\\dagger {a}_{\\#_{1}} {{a}_{n}^\\dagger}^{2} \\quad\\to\\quad 2{{a}_{n}^\\dagger}^{2} + \\sum_{\\#_{1}}{a}_{\\#_{1}}^\\dagger {{a}_{n}^\\dagger}^{2} {a}_{\\#_{1}} $"
      ]
     },
     "metadata": {},
     "output_type": "display_data"
    },
    {
     "data": {
      "text/latex": [
       "$ \\sum_{\\#_{1}}{a}_{\\#_{1}}^\\dagger {a}_{\\#_{1}} {a}_{n}^\\dagger {a}_{n} \\quad\\to\\quad {a}_{n}^\\dagger {a}_{n} + \\sum_{\\#_{1}}{a}_{\\#_{1}}^\\dagger {a}_{n}^\\dagger {a}_{\\#_{1}} {a}_{n} $"
      ]
     },
     "metadata": {},
     "output_type": "display_data"
    }
   ],
   "source": [
    "x = ∑(:i,adag(:i)*a(:i))\n",
    "dispnormal(x)\n",
    "dispnormal(adag(:n)*x)\n",
    "dispnormal(a(:n)*x)\n",
    "dispnormal(σz(:n)*x)\n",
    "dispnormal(Pc\"g_n\"*a(:n)*x)\n",
    "dispnormal(x*adag(:n))\n",
    "dispnormal(x*adag(:n)*adag(:n))\n",
    "dispnormal(x*adag(:n)*a(:n))"
   ]
  },
  {
   "cell_type": "markdown",
   "metadata": {},
   "source": [
    "## Commutators"
   ]
  },
  {
   "cell_type": "code",
   "execution_count": 31,
   "metadata": {
    "ExecuteTime": {
     "end_time": "2021-07-13T20:53:57.840000+02:00",
     "start_time": "2021-07-13T18:53:43.139Z"
    }
   },
   "outputs": [
    {
     "data": {
      "text/latex": [
       "$ {{\\sigma}}_{5}^x {{\\sigma}}_{3}^y-{{\\sigma}}_{3}^y {{\\sigma}}_{5}^x \\quad\\to\\quad 0 $"
      ]
     },
     "metadata": {},
     "output_type": "display_data"
    },
    {
     "data": {
      "text/latex": [
       "$ 0 \\quad\\to\\quad 0 $"
      ]
     },
     "metadata": {},
     "output_type": "display_data"
    },
    {
     "data": {
      "text/latex": [
       "$ {{\\sigma}}_{1}^x {{\\sigma}}_{1}^z-{{\\sigma}}_{1}^z {{\\sigma}}_{1}^x \\quad\\to\\quad -2i{{\\sigma}}_{1}^y $"
      ]
     },
     "metadata": {},
     "output_type": "display_data"
    },
    {
     "data": {
      "text/latex": [
       "$ 2{{\\sigma}}_{5}^x {{\\sigma}}_{5}^y-2{{\\sigma}}_{5}^y {{\\sigma}}_{5}^x \\quad\\to\\quad 4i{{\\sigma}}_{5}^z $"
      ]
     },
     "metadata": {},
     "output_type": "display_data"
    },
    {
     "data": {
      "text/latex": [
       "$ -{{\\sigma}}_{5}^x {{{\\sigma}}_{5}^y}^{2} + 2{{\\sigma}}_{5}^y {{\\sigma}}_{5}^x {{\\sigma}}_{5}^y-{{{\\sigma}}_{5}^y}^{2} {{\\sigma}}_{5}^x \\quad\\to\\quad -4{{\\sigma}}_{5}^x $"
      ]
     },
     "metadata": {},
     "output_type": "display_data"
    }
   ],
   "source": [
    "dispnormal(comm(σx(5),σy(3)))\n",
    "dispnormal(comm(σx(5),σx(5)))\n",
    "dispnormal(comm(σx(1),σz(1)))\n",
    "dispnormal(2*comm(σx(5),σy(5)))\n",
    "dispnormal(comm(σy(5),comm(σx(5),σy(5))))"
   ]
  },
  {
   "cell_type": "code",
   "execution_count": 32,
   "metadata": {
    "ExecuteTime": {
     "end_time": "2021-07-13T20:53:57.859000+02:00",
     "start_time": "2021-07-13T18:53:43.144Z"
    }
   },
   "outputs": [
    {
     "data": {
      "text/latex": [
       "$ \\frac{6}{5}h g{{\\sigma}}_{5}^x {{\\sigma}}_{5}^y + \\frac{-6}{5}g h{{\\sigma}}_{5}^y {{\\sigma}}_{5}^x \\quad\\to\\quad \\frac{12}{5}ig h{{\\sigma}}_{5}^z $"
      ]
     },
     "metadata": {},
     "output_type": "display_data"
    }
   ],
   "source": [
    "dispnormal(comm(2//5*param(:h)*σx(5),3*param(:g)*σy(5)))"
   ]
  },
  {
   "cell_type": "code",
   "execution_count": 33,
   "metadata": {
    "ExecuteTime": {
     "end_time": "2021-07-13T20:53:57.863000+02:00",
     "start_time": "2021-07-13T18:53:43.150Z"
    }
   },
   "outputs": [
    {
     "data": {
      "text/latex": [
       "$ 0 \\quad\\to\\quad 0 $"
      ]
     },
     "metadata": {},
     "output_type": "display_data"
    },
    {
     "data": {
      "text/latex": [
       "$ \\frac{-1}{2}i{{\\sigma}}_{1}^x {{\\sigma}}_{1}^y + \\frac{1}{2}i{{\\sigma}}_{1}^y {{\\sigma}}_{1}^x \\quad\\to\\quad {{\\sigma}}_{1}^z $"
      ]
     },
     "metadata": {},
     "output_type": "display_data"
    },
    {
     "data": {
      "text/latex": [
       "$ \\frac{1}{2}i{{\\sigma}}_{1}^x {{\\sigma}}_{1}^y + \\frac{-1}{2}i{{\\sigma}}_{1}^y {{\\sigma}}_{1}^x \\quad\\to\\quad -{{\\sigma}}_{1}^z $"
      ]
     },
     "metadata": {},
     "output_type": "display_data"
    },
    {
     "data": {
      "text/latex": [
       "$ 0 \\quad\\to\\quad 0 $"
      ]
     },
     "metadata": {},
     "output_type": "display_data"
    },
    {
     "data": {
      "text/latex": [
       "$ \\frac{1}{4}{{\\sigma}}_{1}^x {{\\sigma}}_{2}^x + \\frac{1}{4}i{{\\sigma}}_{1}^x {{\\sigma}}_{2}^y + \\frac{-1}{4}{{\\sigma}}_{2}^x {{\\sigma}}_{1}^x + \\frac{1}{4}i{{\\sigma}}_{2}^x {{\\sigma}}_{1}^y + \\frac{-1}{4}i{{\\sigma}}_{1}^y {{\\sigma}}_{2}^x + \\frac{1}{4}{{\\sigma}}_{1}^y {{\\sigma}}_{2}^y + \\frac{-1}{4}i{{\\sigma}}_{2}^y {{\\sigma}}_{1}^x + \\frac{-1}{4}{{\\sigma}}_{2}^y {{\\sigma}}_{1}^y \\quad\\to\\quad 0 $"
      ]
     },
     "metadata": {},
     "output_type": "display_data"
    }
   ],
   "source": [
    "dispnormal(comm(σp(1),σp(1)))\n",
    "dispnormal(comm(σp(1),σm(1)))\n",
    "dispnormal(comm(σm(1),σp(1)))\n",
    "dispnormal(comm(σm(1),σm(1)))\n",
    "dispnormal(comm(σm(1),σp(2)))"
   ]
  },
  {
   "cell_type": "code",
   "execution_count": 34,
   "metadata": {
    "ExecuteTime": {
     "end_time": "2021-07-13T20:53:57.910000+02:00",
     "start_time": "2021-07-13T18:53:43.155Z"
    }
   },
   "outputs": [
    {
     "data": {
      "text/latex": [
       "$ \\frac{1}{2}{{\\sigma}}_{1}^x {{\\sigma}}_{1}^z + \\frac{-1}{2}i{{\\sigma}}_{1}^y {{\\sigma}}_{1}^z + \\frac{-1}{2}{{\\sigma}}_{1}^z {{\\sigma}}_{1}^x + \\frac{1}{2}i{{\\sigma}}_{1}^z {{\\sigma}}_{1}^y \\quad\\to\\quad {{\\sigma}}_{1}^x-1i{{\\sigma}}_{1}^y $"
      ]
     },
     "metadata": {},
     "output_type": "display_data"
    }
   ],
   "source": [
    "dispnormal(comm(σm(1),σz(1)))"
   ]
  },
  {
   "cell_type": "code",
   "execution_count": 35,
   "metadata": {
    "ExecuteTime": {
     "end_time": "2021-07-13T20:53:57.926000+02:00",
     "start_time": "2021-07-13T18:53:43.159Z"
    }
   },
   "outputs": [
    {
     "data": {
      "text/latex": [
       "$ -{a}_{1}^\\dagger {a}_{2} + {a}_{2} {a}_{1}^\\dagger \\quad\\to\\quad 0 $"
      ]
     },
     "metadata": {},
     "output_type": "display_data"
    }
   ],
   "source": [
    "dispnormal(comm(a(2),adag(1)))"
   ]
  },
  {
   "cell_type": "code",
   "execution_count": 36,
   "metadata": {
    "ExecuteTime": {
     "end_time": "2021-07-13T20:53:57.936000+02:00",
     "start_time": "2021-07-13T18:53:43.164Z"
    }
   },
   "outputs": [
    {
     "data": {
      "text/latex": [
       "$ -{a}_{1}^\\dagger {{a}_{1}}^{2} + {a}_{1} {a}_{1}^\\dagger {a}_{1} \\quad\\to\\quad {a}_{1} $"
      ]
     },
     "metadata": {},
     "output_type": "display_data"
    },
    {
     "data": {
      "text/latex": [
       "$ -{a}_{1}^\\dagger {a}_{2} {{a}_{1}}^{2} + {a}_{1} {a}_{1}^\\dagger {a}_{2} {a}_{1} \\quad\\to\\quad {a}_{1} {a}_{2} $"
      ]
     },
     "metadata": {},
     "output_type": "display_data"
    },
    {
     "data": {
      "text/latex": [
       "$ {a}_{1} {a}_{2} {a}_{1}^\\dagger {a}_{1} {a}_{2}^\\dagger-{a}_{2} {a}_{1}^\\dagger {a}_{1} {a}_{2}^\\dagger {a}_{1} \\quad\\to\\quad {a}_{1} + {a}_{2}^\\dagger {a}_{1} {a}_{2} $"
      ]
     },
     "metadata": {},
     "output_type": "display_data"
    }
   ],
   "source": [
    "dispnormal(comm(a(1),adag(1)*a(1)))\n",
    "dispnormal(comm(a(1),adag(1)*a(2)*a(1)))\n",
    "dispnormal(comm(a(1),a(2)*adag(1)*a(1)*adag(2)))"
   ]
  },
  {
   "cell_type": "code",
   "execution_count": 37,
   "metadata": {
    "ExecuteTime": {
     "end_time": "2021-07-13T20:53:57.999000+02:00",
     "start_time": "2021-07-13T18:53:43.168Z"
    }
   },
   "outputs": [
    {
     "data": {
      "text/latex": [
       "$ \\frac{1}{2}{{\\sigma}}_{1}^x + \\frac{1}{2}i{{\\sigma}}_{1}^y + \\frac{1}{2}{{\\sigma}}_{1}^x {{\\sigma}}_{1}^z + \\frac{1}{2}i{{\\sigma}}_{1}^y {{\\sigma}}_{1}^z \\quad\\to\\quad 0 $"
      ]
     },
     "metadata": {},
     "output_type": "display_data"
    }
   ],
   "source": [
    "dispnormal(σp(1)*σz(1) + σp(1))"
   ]
  },
  {
   "cell_type": "markdown",
   "metadata": {},
   "source": [
    "## Many-mode Tavis-Cummings"
   ]
  },
  {
   "cell_type": "code",
   "execution_count": 38,
   "metadata": {
    "ExecuteTime": {
     "end_time": "2021-07-13T20:53:58.051000+02:00",
     "start_time": "2021-07-13T18:53:43.174Z"
    }
   },
   "outputs": [
    {
     "data": {
      "text/latex": [
       "$\\frac{1}{2}\\sum_{\\#_{1}}{\\omega}e_{\\#_{1}}{{\\sigma}}_{\\#_{1}}^z + \\sum_{\\#_{1}\\#_{2}}g_{\\#_{1}\\#_{2}}{a}_{\\#_{1}}^\\dagger {{\\sigma}}_{\\#_{2}}^x + \\sum_{\\#_{1}}{\\omega}_{\\#_{1}}{a}_{\\#_{1}}^\\dagger {a}_{\\#_{1}} + \\sum_{\\#_{1}\\#_{2}}g_{\\#_{1}\\#_{2}}{a}_{\\#_{1}} {{\\sigma}}_{\\#_{2}}^x$"
      ],
      "text/plain": [
       "1//2 ∑₁ ωe(#₁) σᶻ(#₁) + ∑₁₂ g(#₁#₂) a†(#₁) σˣ(#₂) + ∑₁ ω(#₁) a†(#₁) a(#₁) + ∑₁₂ g(#₁#₂) a(#₁) σˣ(#₂)"
      ]
     },
     "execution_count": 38,
     "metadata": {},
     "output_type": "execute_result"
    }
   ],
   "source": [
    "H = ∑(:i,Pr\"ω_i\"*adag(:i)*a(:i)) + ∑(:j,1//2*Pr\"ωe_j\"*σz(:j)) + ∑(:i,∑(:j,Pr\"g_i,j\"*(adag(:i)+a(:i))*σx(:j)))"
   ]
  },
  {
   "cell_type": "code",
   "execution_count": 39,
   "metadata": {
    "ExecuteTime": {
     "end_time": "2021-07-13T20:53:58.113000+02:00",
     "start_time": "2021-07-13T18:53:43.179Z"
    }
   },
   "outputs": [
    {
     "data": {
      "text/latex": [
       "$\\sum_{\\#_{1}}g_{m\\#_{1}}{a}_{n}^\\dagger {{\\sigma}}_{\\#_{1}}^x + {\\omega}_{m}{a}_{n}^\\dagger {a}_{m}-{\\omega}_{n}{a}_{n}^\\dagger {a}_{m}-\\sum_{\\#_{1}}g_{n\\#_{1}}{{\\sigma}}_{\\#_{1}}^x {a}_{m}$"
      ],
      "text/plain": [
       "∑₁ g(m#₁) a†(n) σˣ(#₁) + ω(m) a†(n) a(m) - ω(n) a†(n) a(m) - ∑₁ g(n#₁) σˣ(#₁) a(m)"
      ]
     },
     "metadata": {},
     "output_type": "display_data"
    },
    {
     "data": {
      "text/latex": [
       "$\\sum_{\\#_{1}}g_{n\\#_{1}}{a}_{n}^\\dagger {{\\sigma}}_{\\#_{1}}^x-\\sum_{\\#_{1}}g_{n\\#_{1}}{{\\sigma}}_{\\#_{1}}^x {a}_{n}$"
      ],
      "text/plain": [
       "∑₁ g(n#₁) a†(n) σˣ(#₁) - ∑₁ g(n#₁) σˣ(#₁) a(n)"
      ]
     },
     "metadata": {},
     "output_type": "display_data"
    },
    {
     "data": {
      "text/latex": [
       "$0$"
      ],
      "text/plain": [
       "0"
      ]
     },
     "metadata": {},
     "output_type": "display_data"
    }
   ],
   "source": [
    "tmp1 = normal_form(comm(adag(:n)*a(:m),H))\n",
    "tmp2 = normal_form(comm(adag(:n)*a(:n),H))\n",
    "display(tmp1)\n",
    "display(tmp2)\n",
    "display(tmp2 - QuantumAlgebra.replace_inds(QuantumAlgebra.OpIndex(:m)=>QuantumAlgebra.OpIndex(:n))(tmp1))"
   ]
  },
  {
   "cell_type": "code",
   "execution_count": 40,
   "metadata": {
    "ExecuteTime": {
     "end_time": "2021-07-13T20:53:58.174000+02:00",
     "start_time": "2021-07-13T18:53:43.186Z"
    }
   },
   "outputs": [
    {
     "data": {
      "text/latex": [
       "$[{a}_{n},H] = \\sum_{\\#_{1}}g_{n\\#_{1}}{{\\sigma}}_{\\#_{1}}^x + {\\omega}_{n}{a}_{n}$"
      ]
     },
     "metadata": {},
     "output_type": "display_data"
    },
    {
     "data": {
      "text/latex": [
       "$[{a}_{n}^\\dagger,H] = -{\\omega}_{n}{a}_{n}^\\dagger-\\sum_{\\#_{1}}g_{n\\#_{1}}{{\\sigma}}_{\\#_{1}}^x$"
      ]
     },
     "metadata": {},
     "output_type": "display_data"
    },
    {
     "data": {
      "text/latex": [
       "$[{{\\sigma}}_{k}^x,H] = -1i{\\omega}e_{k}{{\\sigma}}_{k}^y$"
      ]
     },
     "metadata": {},
     "output_type": "display_data"
    },
    {
     "data": {
      "text/latex": [
       "$[{{\\sigma}}_{k}^y,H] = 1i{\\omega}e_{k}{{\\sigma}}_{k}^x-2i\\sum_{\\#_{1}}g_{\\#_{1}k}{a}_{\\#_{1}}^\\dagger {{\\sigma}}_{k}^z-2i\\sum_{\\#_{1}}g_{\\#_{1}k}{{\\sigma}}_{k}^z {a}_{\\#_{1}}$"
      ]
     },
     "metadata": {},
     "output_type": "display_data"
    },
    {
     "data": {
      "text/latex": [
       "$[{{\\sigma}}_{k}^z,H] = 2i\\sum_{\\#_{1}}g_{\\#_{1}k}{a}_{\\#_{1}}^\\dagger {{\\sigma}}_{k}^y + 2i\\sum_{\\#_{1}}g_{\\#_{1}k}{{\\sigma}}_{k}^y {a}_{\\#_{1}}$"
      ]
     },
     "metadata": {},
     "output_type": "display_data"
    }
   ],
   "source": [
    "for op in [a(:n),adag(:n),σx(:k),σy(:k),σz(:k)]\n",
    "    display(\"text/latex\",string(\"\\$[\",latex(op),\",H] = \",latex(normal_form(comm(op,H))),\"\\$\"))\n",
    "end"
   ]
  },
  {
   "cell_type": "code",
   "execution_count": 41,
   "metadata": {
    "ExecuteTime": {
     "end_time": "2021-07-13T20:53:58.211000+02:00",
     "start_time": "2021-07-13T18:53:43.193Z"
    }
   },
   "outputs": [
    {
     "data": {
      "text/latex": [
       "$[{a}_{n}^\\dagger {{\\sigma}}_{k}^z,H] = -{\\omega}_{n}{a}_{n}^\\dagger {{\\sigma}}_{k}^z-\\sum_{\\#_{1}}g_{n\\#_{1}}{{\\sigma}}_{\\#_{1}}^x {{\\sigma}}_{k}^z + 2i\\sum_{\\#_{1}}g_{\\#_{1}k}{a}_{\\#_{1}}^\\dagger {a}_{n}^\\dagger {{\\sigma}}_{k}^y + 2i\\sum_{\\#_{1}}g_{\\#_{1}k}{a}_{n}^\\dagger {{\\sigma}}_{k}^y {a}_{\\#_{1}}$"
      ]
     },
     "metadata": {},
     "output_type": "display_data"
    },
    {
     "data": {
      "text/latex": [
       "$[{a}_{n} {{\\sigma}}_{k}^z,H] = 2ig_{nk}{{\\sigma}}_{k}^y + \\sum_{\\#_{1}}g_{n\\#_{1}}{{\\sigma}}_{\\#_{1}}^x {{\\sigma}}_{k}^z + {\\omega}_{n}{{\\sigma}}_{k}^z {a}_{n} + 2i\\sum_{\\#_{1}}g_{\\#_{1}k}{a}_{\\#_{1}}^\\dagger {{\\sigma}}_{k}^y {a}_{n} + 2i\\sum_{\\#_{1}}g_{\\#_{1}k}{{\\sigma}}_{k}^y {a}_{\\#_{1}} {a}_{n}$"
      ]
     },
     "metadata": {},
     "output_type": "display_data"
    }
   ],
   "source": [
    "for op in [adag(:n)*σz(:k),a(:n)*σz(:k)]\n",
    "    display(\"text/latex\",string(\"\\$[\",latex(op),\",H] = \",latex(normal_form(comm(op,H))),\"\\$\"))\n",
    "end"
   ]
  },
  {
   "cell_type": "markdown",
   "metadata": {},
   "source": [
    "## Cumulant expansions\n",
    "`expval_as_corrs` expresses expectation values of operator products in terms of correlators."
   ]
  },
  {
   "cell_type": "code",
   "execution_count": 42,
   "metadata": {
    "ExecuteTime": {
     "end_time": "2021-07-13T20:53:58.498000+02:00",
     "start_time": "2021-07-13T18:53:43.199Z"
    }
   },
   "outputs": [
    {
     "data": {
      "text/latex": [
       "$\\frac{1}{2}\\sum_{\\#_{1}}{\\omega}e_{\\#_{1}}\\langle {{\\sigma}}_{\\#_{1}}^z \\rangle + \\sum_{\\#_{1}\\#_{2}}g_{\\#_{1}\\#_{2}}\\langle {a}_{\\#_{1}}^\\dagger {{\\sigma}}_{\\#_{2}}^x \\rangle + \\sum_{\\#_{1}}{\\omega}_{\\#_{1}}\\langle {a}_{\\#_{1}}^\\dagger {a}_{\\#_{1}} \\rangle + \\sum_{\\#_{1}\\#_{2}}g_{\\#_{1}\\#_{2}}\\langle {a}_{\\#_{1}} {{\\sigma}}_{\\#_{2}}^x \\rangle$"
      ],
      "text/plain": [
       "1//2 ∑₁ ωe(#₁) ⟨σᶻ(#₁)⟩  + ∑₁₂ g(#₁#₂) ⟨a†(#₁) σˣ(#₂)⟩  + ∑₁ ω(#₁) ⟨a†(#₁) a(#₁)⟩  + ∑₁₂ g(#₁#₂) ⟨a(#₁) σˣ(#₂)⟩ "
      ]
     },
     "execution_count": 42,
     "metadata": {},
     "output_type": "execute_result"
    }
   ],
   "source": [
    "expval(H)"
   ]
  },
  {
   "cell_type": "code",
   "execution_count": 43,
   "metadata": {
    "ExecuteTime": {
     "end_time": "2021-07-13T20:53:59.348000+02:00",
     "start_time": "2021-07-13T18:53:43.205Z"
    }
   },
   "outputs": [
    {
     "data": {
      "text/latex": [
       "$\\frac{1}{2}\\sum_{\\#_{1}}{\\omega}e_{\\#_{1}}\\langle {{\\sigma}}_{\\#_{1}}^z \\rangle_{c} + \\sum_{\\#_{1}\\#_{2}}g_{\\#_{1}\\#_{2}}\\langle {a}_{\\#_{1}}^\\dagger \\rangle_{c} \\langle {{\\sigma}}_{\\#_{2}}^x \\rangle_{c} + \\sum_{\\#_{1}}{\\omega}_{\\#_{1}}\\langle {a}_{\\#_{1}}^\\dagger \\rangle_{c} \\langle {a}_{\\#_{1}} \\rangle_{c} + \\sum_{\\#_{1}\\#_{2}}g_{\\#_{1}\\#_{2}}\\langle {{\\sigma}}_{\\#_{2}}^x \\rangle_{c} \\langle {a}_{\\#_{1}} \\rangle_{c} + \\sum_{\\#_{1}\\#_{2}}g_{\\#_{1}\\#_{2}}\\langle {a}_{\\#_{1}}^\\dagger {{\\sigma}}_{\\#_{2}}^x \\rangle_{c} + \\sum_{\\#_{1}}{\\omega}_{\\#_{1}}\\langle {a}_{\\#_{1}}^\\dagger {a}_{\\#_{1}} \\rangle_{c} + \\sum_{\\#_{1}\\#_{2}}g_{\\#_{1}\\#_{2}}\\langle {a}_{\\#_{1}} {{\\sigma}}_{\\#_{2}}^x \\rangle_{c}$"
      ],
      "text/plain": [
       "1//2 ∑₁ ωe(#₁) ⟨σᶻ(#₁)⟩c  + ∑₁₂ g(#₁#₂) ⟨a†(#₁)⟩c ⟨σˣ(#₂)⟩c  + ∑₁ ω(#₁) ⟨a†(#₁)⟩c ⟨a(#₁)⟩c  + ∑₁₂ g(#₁#₂) ⟨σˣ(#₂)⟩c ⟨a(#₁)⟩c  + ∑₁₂ g(#₁#₂) ⟨a†(#₁) σˣ(#₂)⟩c  + ∑₁ ω(#₁) ⟨a†(#₁) a(#₁)⟩c  + ∑₁₂ g(#₁#₂) ⟨a(#₁) σˣ(#₂)⟩c "
      ]
     },
     "execution_count": 43,
     "metadata": {},
     "output_type": "execute_result"
    }
   ],
   "source": [
    "expval_as_corrs(H)"
   ]
  },
  {
   "cell_type": "code",
   "execution_count": 44,
   "metadata": {
    "ExecuteTime": {
     "end_time": "2021-07-13T20:53:59.350000+02:00",
     "start_time": "2021-07-13T18:53:43.208Z"
    }
   },
   "outputs": [
    {
     "data": {
      "text/latex": [
       "$\\langle {a}_{2} \\rangle_{c}$"
      ],
      "text/plain": [
       "⟨a(2)⟩c "
      ]
     },
     "metadata": {},
     "output_type": "display_data"
    },
    {
     "data": {
      "text/latex": [
       "$3\\langle {a}_{2} \\rangle_{c}$"
      ],
      "text/plain": [
       "3 ⟨a(2)⟩c "
      ]
     },
     "metadata": {},
     "output_type": "display_data"
    }
   ],
   "source": [
    "display(expval_as_corrs(a(2)))\n",
    "display(expval_as_corrs(3*a(2)))"
   ]
  },
  {
   "cell_type": "code",
   "execution_count": 45,
   "metadata": {
    "ExecuteTime": {
     "end_time": "2021-07-13T20:54:00.683000+02:00",
     "start_time": "2021-07-13T18:53:43.220Z"
    }
   },
   "outputs": [
    {
     "data": {
      "text/latex": [
       "${\\langle {a}_{2} \\rangle_{c}}^{2} + \\langle {{a}_{2}}^{2} \\rangle_{c}$"
      ],
      "text/plain": [
       "⟨a(2)⟩c²  + ⟨a(2)²⟩c "
      ]
     },
     "metadata": {},
     "output_type": "display_data"
    },
    {
     "data": {
      "text/latex": [
       "$2\\langle {a}_{1} \\rangle_{c} \\langle {a}_{2} \\rangle_{c} \\langle {a}_{3} \\rangle_{c} + 2\\langle {a}_{1} \\rangle_{c} \\langle {a}_{2} {a}_{3} \\rangle_{c} + 2\\langle {a}_{2} \\rangle_{c} \\langle {a}_{1} {a}_{3} \\rangle_{c} + 2\\langle {a}_{3} \\rangle_{c} \\langle {a}_{1} {a}_{2} \\rangle_{c} + 2\\langle {a}_{1} {a}_{2} {a}_{3} \\rangle_{c}$"
      ],
      "text/plain": [
       "2 ⟨a(1)⟩c ⟨a(2)⟩c ⟨a(3)⟩c  + 2 ⟨a(1)⟩c ⟨a(2) a(3)⟩c  + 2 ⟨a(2)⟩c ⟨a(1) a(3)⟩c  + 2 ⟨a(3)⟩c ⟨a(1) a(2)⟩c  + 2 ⟨a(1) a(2) a(3)⟩c "
      ]
     },
     "metadata": {},
     "output_type": "display_data"
    },
    {
     "data": {
      "text/latex": [
       "$\\langle {a}_{1} \\rangle_{c} \\langle {a}_{2} \\rangle_{c} \\langle {a}_{3} \\rangle_{c} \\langle {a}_{4} \\rangle_{c} + \\langle {a}_{1} \\rangle_{c} \\langle {a}_{2} \\rangle_{c} \\langle {a}_{3} {a}_{4} \\rangle_{c} + \\langle {a}_{1} \\rangle_{c} \\langle {a}_{3} \\rangle_{c} \\langle {a}_{2} {a}_{4} \\rangle_{c} + \\langle {a}_{1} \\rangle_{c} \\langle {a}_{4} \\rangle_{c} \\langle {a}_{2} {a}_{3} \\rangle_{c} + \\langle {a}_{1} \\rangle_{c} \\langle {a}_{2} {a}_{3} {a}_{4} \\rangle_{c} + \\langle {a}_{2} \\rangle_{c} \\langle {a}_{3} \\rangle_{c} \\langle {a}_{1} {a}_{4} \\rangle_{c} + \\langle {a}_{2} \\rangle_{c} \\langle {a}_{4} \\rangle_{c} \\langle {a}_{1} {a}_{3} \\rangle_{c} + \\langle {a}_{2} \\rangle_{c} \\langle {a}_{1} {a}_{3} {a}_{4} \\rangle_{c} + \\langle {a}_{3} \\rangle_{c} \\langle {a}_{4} \\rangle_{c} \\langle {a}_{1} {a}_{2} \\rangle_{c} + \\langle {a}_{3} \\rangle_{c} \\langle {a}_{1} {a}_{2} {a}_{4} \\rangle_{c} + \\langle {a}_{4} \\rangle_{c} \\langle {a}_{1} {a}_{2} {a}_{3} \\rangle_{c} + \\langle {a}_{1} {a}_{2} \\rangle_{c} \\langle {a}_{3} {a}_{4} \\rangle_{c} + \\langle {a}_{1} {a}_{3} \\rangle_{c} \\langle {a}_{2} {a}_{4} \\rangle_{c} + \\langle {a}_{1} {a}_{4} \\rangle_{c} \\langle {a}_{2} {a}_{3} \\rangle_{c} + \\langle {a}_{1} {a}_{2} {a}_{3} {a}_{4} \\rangle_{c}$"
      ],
      "text/plain": [
       "⟨a(1)⟩c ⟨a(2)⟩c ⟨a(3)⟩c ⟨a(4)⟩c  + ⟨a(1)⟩c ⟨a(2)⟩c ⟨a(3) a(4)⟩c  + ⟨a(1)⟩c ⟨a(3)⟩c ⟨a(2) a(4)⟩c  + ⟨a(1)⟩c ⟨a(4)⟩c ⟨a(2) a(3)⟩c  + ⟨a(1)⟩c ⟨a(2) a(3) a(4)⟩c  + ⟨a(2)⟩c ⟨a(3)⟩c ⟨a(1) a(4)⟩c  + ⟨a(2)⟩c ⟨a(4)⟩c ⟨a(1) a(3)⟩c  + ⟨a(2)⟩c ⟨a(1) a(3) a(4)⟩c  + ⟨a(3)⟩c ⟨a(4)⟩c ⟨a(1) a(2)⟩c  + ⟨a(3)⟩c ⟨a(1) a(2) a(4)⟩c  + ⟨a(4)⟩c ⟨a(1) a(2) a(3)⟩c  + ⟨a(1) a(2)⟩c ⟨a(3) a(4)⟩c  + ⟨a(1) a(3)⟩c ⟨a(2) a(4)⟩c  + ⟨a(1) a(4)⟩c ⟨a(2) a(3)⟩c  + ⟨a(1) a(2) a(3) a(4)⟩c "
      ]
     },
     "metadata": {},
     "output_type": "display_data"
    },
    {
     "data": {
      "text/latex": [
       "$\\langle {a}_{2}^\\dagger \\rangle_{c} \\langle {{\\sigma}}_{1}^z \\rangle_{c} \\langle {a}_{1} \\rangle_{c} + \\langle {a}_{2}^\\dagger \\rangle_{c} \\langle {a}_{1} {{\\sigma}}_{1}^z \\rangle_{c} + \\langle {{\\sigma}}_{1}^z \\rangle_{c} \\langle {a}_{2}^\\dagger {a}_{1} \\rangle_{c} + \\langle {a}_{1} \\rangle_{c} \\langle {a}_{2}^\\dagger {{\\sigma}}_{1}^z \\rangle_{c} + \\langle {a}_{2}^\\dagger {a}_{1} {{\\sigma}}_{1}^z \\rangle_{c}$"
      ],
      "text/plain": [
       "⟨a†(2)⟩c ⟨σᶻ(1)⟩c ⟨a(1)⟩c  + ⟨a†(2)⟩c ⟨a(1) σᶻ(1)⟩c  + ⟨σᶻ(1)⟩c ⟨a†(2) a(1)⟩c  + ⟨a(1)⟩c ⟨a†(2) σᶻ(1)⟩c  + ⟨a†(2) a(1) σᶻ(1)⟩c "
      ]
     },
     "metadata": {},
     "output_type": "display_data"
    }
   ],
   "source": [
    "display(expval_as_corrs(a(2)*a(2)))\n",
    "display(expval_as_corrs(2*a(1)*a(2)*a(3)))\n",
    "display(expval_as_corrs(a(1)*a(2)*a(3)*a(4)))\n",
    "display(expval_as_corrs(adag(2)*a(1)*σz(1)))"
   ]
  },
  {
   "cell_type": "code",
   "execution_count": 46,
   "metadata": {
    "ExecuteTime": {
     "end_time": "2021-07-13T20:54:00.777000+02:00",
     "start_time": "2021-07-13T18:53:43.224Z"
    }
   },
   "outputs": [
    {
     "data": {
      "text/latex": [
       "$g\\langle {a}_{3}^\\dagger \\rangle_{c} {\\langle {a}_{2} \\rangle_{c}}^{2} + g\\langle {a}_{3}^\\dagger \\rangle_{c} \\langle {{a}_{2}}^{2} \\rangle_{c} + 2g\\langle {a}_{2} \\rangle_{c} \\langle {a}_{3}^\\dagger {a}_{2} \\rangle_{c} + g\\langle {a}_{3}^\\dagger {{a}_{2}}^{2} \\rangle_{c}$"
      ],
      "text/plain": [
       "g ⟨a†(3)⟩c ⟨a(2)⟩c²  + g ⟨a†(3)⟩c ⟨a(2)²⟩c  + 2 g ⟨a(2)⟩c ⟨a†(3) a(2)⟩c  + g ⟨a†(3) a(2)²⟩c "
      ]
     },
     "metadata": {},
     "output_type": "display_data"
    },
    {
     "data": {
      "text/latex": [
       "$-g_{1}\\langle {{\\sigma}}_{1}^z \\rangle_{c}$"
      ],
      "text/plain": [
       "-g(1) ⟨σᶻ(1)⟩c "
      ]
     },
     "metadata": {},
     "output_type": "display_data"
    }
   ],
   "source": [
    "display(expval_as_corrs( Pr\"g\"*adag(3)*a(2)*a(2)))\n",
    "display(expval_as_corrs(-Pr\"g_1\"*σz(1)))"
   ]
  },
  {
   "cell_type": "markdown",
   "metadata": {},
   "source": [
    "## Vacuum expectation values"
   ]
  },
  {
   "cell_type": "code",
   "execution_count": 47,
   "metadata": {
    "ExecuteTime": {
     "end_time": "2021-07-13T20:54:01.264000+02:00",
     "start_time": "2021-07-13T18:53:43.228Z"
    }
   },
   "outputs": [
    {
     "data": {
      "text/latex": [
       "$0$"
      ],
      "text/plain": [
       "0"
      ]
     },
     "metadata": {},
     "output_type": "display_data"
    },
    {
     "data": {
      "text/latex": [
       "$1$"
      ],
      "text/plain": [
       "1"
      ]
     },
     "metadata": {},
     "output_type": "display_data"
    }
   ],
   "source": [
    "display(vacA(Avac(σp(1)*σm(1))))\n",
    "display(vacA(Avac(σm(1)*σp(1))))"
   ]
  },
  {
   "cell_type": "code",
   "execution_count": 48,
   "metadata": {
    "ExecuteTime": {
     "end_time": "2021-07-13T20:54:01.270000+02:00",
     "start_time": "2021-07-13T18:53:43.230Z"
    }
   },
   "outputs": [
    {
     "data": {
      "text/latex": [
       "$1$"
      ],
      "text/plain": [
       "1"
      ]
     },
     "execution_count": 48,
     "metadata": {},
     "output_type": "execute_result"
    }
   ],
   "source": [
    "# silly trick to get a \"1\" as a QuantumAlgebra object without using the internals\n",
    "ident = 1 + 0*a()"
   ]
  },
  {
   "cell_type": "code",
   "execution_count": 49,
   "metadata": {
    "ExecuteTime": {
     "end_time": "2021-07-13T20:54:02.154000+02:00",
     "start_time": "2021-07-13T18:53:43.235Z"
    }
   },
   "outputs": [
    {
     "data": {
      "text/latex": [
       "$|\\psi\\rangle = \\left(0.707107{a}_{n}^\\dagger + 0.288675{{a}_{n}^\\dagger}^{3}\\right)|0\\rangle$"
      ]
     },
     "metadata": {},
     "output_type": "display_data"
    },
    {
     "data": {
      "text/latex": [
       "$\\langle\\psi|1|\\psi\\rangle = 1$"
      ]
     },
     "metadata": {},
     "output_type": "display_data"
    },
    {
     "data": {
      "text/latex": [
       "$\\langle\\psi|{a}_{n}^\\dagger {a}_{n}|\\psi\\rangle = 2$"
      ]
     },
     "metadata": {},
     "output_type": "display_data"
    },
    {
     "data": {
      "text/latex": [
       "$\\langle\\psi|{{a}_{n}^\\dagger}^{2} {{a}_{n}}^{2}|\\psi\\rangle = 3$"
      ]
     },
     "metadata": {},
     "output_type": "display_data"
    },
    {
     "data": {
      "text/latex": []
     },
     "metadata": {},
     "output_type": "display_data"
    },
    {
     "data": {
      "text/latex": [
       "$|\\psi\\rangle = \\left(0.707107{a}_{m}^\\dagger + 0.288675{{a}_{n}^\\dagger}^{3}\\right)|0\\rangle$"
      ]
     },
     "metadata": {},
     "output_type": "display_data"
    },
    {
     "data": {
      "text/latex": [
       "$\\langle\\psi|1|\\psi\\rangle = 1$"
      ]
     },
     "metadata": {},
     "output_type": "display_data"
    },
    {
     "data": {
      "text/latex": [
       "$\\langle\\psi|{a}_{n}^\\dagger {a}_{n}|\\psi\\rangle = 1.5 + 0.5\\delta_{mn}$"
      ]
     },
     "metadata": {},
     "output_type": "display_data"
    },
    {
     "data": {
      "text/latex": [
       "$\\langle\\psi|{{a}_{n}^\\dagger}^{2} {{a}_{n}}^{2}|\\psi\\rangle = 3$"
      ]
     },
     "metadata": {},
     "output_type": "display_data"
    }
   ],
   "source": [
    "nphotstate(n,ind) = 1/sqrt(factorial(n)) * *((adag(ind) for i=1:n)...)\n",
    "for i2 = (:n,:m)\n",
    "    stateop = 1/√2*nphotstate(3,:n) + 1/√2*nphotstate(1,i2)\n",
    "    display(\"text/latex\",string(\"\\$|\\\\psi\\\\rangle = \\\\left(\",latex(stateop),\"\\\\right)|0\\\\rangle\\$\"))\n",
    "    for A in [ident,adag(:n)*a(:n),adag(:n)*adag(:n)*a(:n)*a(:n)]\n",
    "        display(\"text/latex\",string(\"\\$\\\\langle\\\\psi|\",latex(A),\"|\\\\psi\\\\rangle = \",latex(vacExpVal(A,stateop)),\"\\$\"))\n",
    "    end\n",
    "    i2 == :n && display(\"text/latex\",\"\")\n",
    "end"
   ]
  },
  {
   "cell_type": "markdown",
   "metadata": {},
   "source": [
    "## Convert QuantumAlgebra expressions to julia expressions (code)\n",
    "\n",
    "For converting to code, we cannot have bare operators, but only expectation values or correlators/cumulants. An expectation value $\\langle a^\\dagger_i a_j\\rangle$ is represented as a two-dimensional array `aᴴa[i,j]`, etc. Sums are not written explicitly, but indicated by special sum index names `s̄ᵢ`, which are not possible \"normal\" index symbols (since `\"s̄\"` is a two-character unicode string, and we only allow single-character indices). $\\delta$ are converted to `I` (code using this should have `using LinearAlgebra`, which defines `I` as the `UniformScaling` type, with `I[i,j] = δᵢⱼ`)."
   ]
  },
  {
   "cell_type": "code",
   "execution_count": 50,
   "metadata": {
    "ExecuteTime": {
     "end_time": "2021-07-13T20:54:03.753000+02:00",
     "start_time": "2021-07-13T18:53:43.239Z"
    }
   },
   "outputs": [
    {
     "data": {
      "text/latex": [
       "$1 + \\delta_{k_{1}k_{2}} + \\sum_{\\#_{1}}\\langle {a}_{j}^\\dagger {a}_{\\#_{1}} \\rangle-\\langle {f}_{k_{2}}^\\dagger {f}_{k_{1}} \\rangle$"
      ],
      "text/plain": [
       "1 + δ(k₁k₂)  + ∑₁ ⟨a†(j) a(#₁)⟩  - ⟨f†(k₂) f(k₁)⟩ "
      ]
     },
     "metadata": {},
     "output_type": "display_data"
    },
    {
     "data": {
      "text/plain": [
       ":(1.0 + I[k₁, k₂] + aᴴa[j, s̄₁] + -1.0 * fᴴf[k₂, k₁])"
      ]
     },
     "execution_count": 50,
     "metadata": {},
     "output_type": "execute_result"
    }
   ],
   "source": [
    "x = ∑(:i, a(:i)*adag(:j)) + f(:k_1)*fdag(:k_2)\n",
    "x = expval(normal_form(x))\n",
    "display(x)\n",
    "julia_expression(x)"
   ]
  }
 ],
 "metadata": {
  "@webio": {
   "lastCommId": null,
   "lastKernelId": null
  },
  "hide_input": false,
  "kernelspec": {
   "display_name": "Julia 1.6",
   "language": "julia",
   "name": "julia-1.6"
  },
  "language_info": {
   "file_extension": ".jl",
   "mimetype": "application/julia",
   "name": "julia",
   "version": "1.6.1"
  },
  "toc": {
   "base_numbering": 1,
   "nav_menu": {},
   "number_sections": true,
   "sideBar": true,
   "skip_h1_title": false,
   "title_cell": "Table of Contents",
   "title_sidebar": "Contents",
   "toc_cell": false,
   "toc_position": {},
   "toc_section_display": true,
   "toc_window_display": true
  },
  "varInspector": {
   "cols": {
    "lenName": 16,
    "lenType": 16,
    "lenVar": 40
   },
   "kernels_config": {
    "python": {
     "delete_cmd_postfix": "",
     "delete_cmd_prefix": "del ",
     "library": "var_list.py",
     "varRefreshCmd": "print(var_dic_list())"
    },
    "r": {
     "delete_cmd_postfix": ") ",
     "delete_cmd_prefix": "rm(",
     "library": "var_list.r",
     "varRefreshCmd": "cat(var_dic_list()) "
    }
   },
   "types_to_exclude": [
    "module",
    "function",
    "builtin_function_or_method",
    "instance",
    "_Feature"
   ],
   "window_display": false
  }
 },
 "nbformat": 4,
 "nbformat_minor": 2
}
